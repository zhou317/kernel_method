{
 "cells": [
  {
   "cell_type": "code",
   "execution_count": 179,
   "metadata": {},
   "outputs": [],
   "source": [
    "import numpy as np\n",
    "from numpy.linalg import cholesky\n",
    "from mpl_toolkits.mplot3d import Axes3D\n",
    "import matplotlib.pyplot as plt"
   ]
  },
  {
   "cell_type": "code",
   "execution_count": 198,
   "metadata": {
    "scrolled": true
   },
   "outputs": [
    {
     "data": {
      "image/png": "[encoded data removed]",
      "text/plain": [
       "<Figure size 432x288 with 1 Axes>"
      ]
     },
     "metadata": {
      "needs_background": "light"
     },
     "output_type": "display_data"
    }
   ],
   "source": [
    "mean1 = [1,2]\n",
    "conv1 = [[4,4],[4,9]]\n",
    "mean2 = [16,9]\n",
    "conv2 = [[4,2],[2,4]]\n",
    "\n",
    "x1 = np.random.multivariate_normal(mean1,conv1,100)\n",
    "x2 = np.random.multivariate_normal(mean2,conv2,100)\n",
    "\n",
    "c1 = x1.mean(axis = 0)\n",
    "c2 = x2.mean(axis = 0)\n",
    "\n",
    "plt.plot(x1.T[0],x1.T[1],'+',color=\"b\")\n",
    "plt.plot(x2.T[0],x2.T[1],'+',color=\"orange\")\n",
    "plt.plot(c1[0],c1[1],'^',color=\"red\")\n",
    "plt.plot(c2[0],c2[1],'^',color=\"red\")\n",
    "plt.savefig('img/simple_2d.png')\n",
    "plt.show()"
   ]
  },
  {
   "cell_type": "code",
   "execution_count": 209,
   "metadata": {},
   "outputs": [],
   "source": [
    "# 高斯核函数\n",
    "def rbf(x,z,sigma=5):\n",
    "#     只支持两个向量rbf,不支持多个如：[x,x,x] [y,y,y]\n",
    "    return np.exp(-((x-z)**2).sum()/ (2*sigma**2))\n",
    "# 线性核\n",
    "# def rbf(x,z):\n",
    "# #     只支持两个向量rbf,不支持多个如：[x,x,x] [y,y,y]\n",
    "# # a = np.array([1,2])\n",
    "# # b = np.array([3,4])\n",
    "# # rbf(a,b) = 11\n",
    "#     return (x*z).sum()\n",
    "\n",
    "m1 = x1.shape[0]\n",
    "m2 = x2.shape[0]\n",
    "b = 0\n",
    "for i in range(m1):\n",
    "    for j in range(m2):\n",
    "        b += 1./(2*m1*m1) * rbf(x1[i],x1[j])  + 1./(2*m1*m2) * rbf(x2[i],x2[j])"
   ]
  },
  {
   "cell_type": "code",
   "execution_count": 211,
   "metadata": {},
   "outputs": [],
   "source": [
    "def y(x,x1,x2,b):\n",
    "    res = 0\n",
    "    m1 = x1.shape[0]\n",
    "    m2 = x2.shape[0]\n",
    "    for i in range(m1):\n",
    "        res += 1./m1 * rbf(x,x1[i])\n",
    "    for i in range(m2):\n",
    "        res -= 1./m2 * rbf(x,x2[i])\n",
    "    return np.sign(res - b)\n"
   ]
  },
  {
   "cell_type": "code",
   "execution_count": 212,
   "metadata": {},
   "outputs": [],
   "source": [
    "x1_test = np.random.multivariate_normal(mean1,conv1,50)\n",
    "x2_test = np.random.multivariate_normal(mean2,conv2,50)"
   ]
  },
  {
   "cell_type": "code",
   "execution_count": 213,
   "metadata": {
    "scrolled": true
   },
   "outputs": [
    {
     "name": "stdout",
     "output_type": "stream",
     "text": [
      "Accuracy:  0.75\n"
     ]
    },
    {
     "data": {
      "image/png": "[encoded data removed]",
      "text/plain": [
       "<Figure size 432x288 with 1 Axes>"
      ]
     },
     "metadata": {
      "needs_background": "light"
     },
     "output_type": "display_data"
    }
   ],
   "source": [
    "total = 0\n",
    "fault = []\n",
    "right = []\n",
    "\n",
    "for i in range(x1_test.shape[0]):\n",
    "    if y(x1_test[i],x1,x2,b) == 1:\n",
    "        total += 1\n",
    "        right.append(x1_test[i])\n",
    "    else:\n",
    "        fault.append(x1_test[i])\n",
    "for i in range(x2_test.shape[0]):\n",
    "    if y(x2_test[i],x1,x2,b) == -1:\n",
    "        total += 1\n",
    "        right.append(x2_test[i])\n",
    "    else:\n",
    "        fault.append(x2_test[i])\n",
    "\n",
    "fault = np.array(fault).T\n",
    "right = np.array(right).T\n",
    "print(\"Accuracy: \",total / 100.0)\n",
    "plt.plot(fault[0],fault[1],'^',color=\"red\")\n",
    "plt.plot(right[0],right[1],'.',color=\"green\")\n",
    "plt.savefig('img/simple_res2d.png')\n",
    "plt.show()"
   ]
  }
 ],
 "metadata": {
  "kernelspec": {
   "display_name": "Python 3",
   "language": "python",
   "name": "python3"
  },
  "language_info": {
   "codemirror_mode": {
    "name": "ipython",
    "version": 3
   },
   "file_extension": ".py",
   "mimetype": "text/x-python",
   "name": "python",
   "nbconvert_exporter": "python",
   "pygments_lexer": "ipython3",
   "version": "3.7.7"
  }
 },
 "nbformat": 4,
 "nbformat_minor": 2
}
